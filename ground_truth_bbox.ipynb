{
 "cells": [
  {
   "cell_type": "code",
   "execution_count": 10,
   "metadata": {},
   "outputs": [
    {
     "name": "stderr",
     "output_type": "stream",
     "text": [
      "100%|██████████| 2710/2710 [01:00<00:00, 44.61it/s]\n"
     ]
    }
   ],
   "source": [
    "from shapely.geometry import box\n",
    "\n",
    "input_folder = \"/local_data/cosmiq/wdata/achadda/rareplanes-public/testOriginal/geojson_aircraft_tiled\"\n",
    "output_folder = \"/local_data/cosmiq/wdata/achadda/rareplanes-public/testOriginal/geojson_aircraft_bbox\"\n",
    "os.makedirs(output_folder,exist_ok=True)\n",
    "os.chdir(input_folder)\n",
    "geojsons = glob.glob(\"*.geojson\")\n",
    "for geojson in tqdm(geojsons):\n",
    "    gdf = gpd.read_file(geojson)\n",
    "    box_geoms= []\n",
    "    for _, row in gdf.iterrows():\n",
    "        x = row.geometry.bounds\n",
    "        bbox = box(x[0], x[1], x[2], x[3])\n",
    "        box_geoms.append(bbox)\n",
    "    gdf['box_geom'] = box_geoms\n",
    "    gdf = gdf.drop('geometry',axis=1)\n",
    "    gdf = gpd.GeoDataFrame(gdf, geometry='box_geom')\n",
    "    out_name=os.path.join(output_folder, geojson)\n",
    "    #print(gdf.head(10)) \n",
    "    gdf.to_file(out_name, driver='GeoJSON', encoding='utf-8')"
   ]
  },
  {
   "cell_type": "code",
   "execution_count": 12,
   "metadata": {},
   "outputs": [],
   "source": [
    "import argparse\n",
    "import geopandas as gpd\n",
    "import pandas as pd\n",
    "import os\n",
    "import glob\n",
    "from tqdm import tqdm\n",
    "\n",
    "\n",
    "def count_unique_index(df, by):\n",
    "    return df.groupby(by).size().reset_index().rename(columns={0: 'count'})\n",
    "\n",
    "def create_custom_classes(all_annotations_geojson, geojson_dir, output_path, category_attributes):\n",
    "    \"\"\" parse the geojson files and create custom classes based upon\n",
    "    unique variatons of the RarePlanes attributes.\n",
    "        -all_annotations_geojson (str): The path to the\n",
    "        `RarePlanes_Public_All_Annotations.geojson` file.\n",
    "        - geojson_dir (str): directory containing the geojson files\n",
    "        for individual images or tiles\n",
    "        - output_path (str): directory to output the customized geojsons. Need to provide the absolute path.\n",
    "        - category_attributes (list): A list of attributes to combine\n",
    "        to create a custom class.  Choose any combintaion of the following:\n",
    "        ['role','num_engines', 'propulsion', 'canards', 'num_tail_fins',\n",
    "       'wing_position', 'wing_type', 'faa_wingspan_class']\n",
    "    :returns\n",
    "        - new geojsons with a custom_id for each combination of unique\n",
    "        attributes.\n",
    "        -A lookup table for each classes custom_id.\n",
    "    \"\"\"\n",
    "    os.makedirs(output_path, exist_ok=True)\n",
    "    gdf = gpd.read_file(all_annotations_geojson)\n",
    "    lookup_gdf = count_unique_index(gdf, category_attributes)\n",
    "    lookup_gdf['custom_id'] = list(range(1, len(lookup_gdf) + 1))\n",
    "    lookup_gdf.drop(columns=['count'], inplace=True)\n",
    "    lookup_gdf.to_csv(os.path.join(output_path, \"custom_class_lookup.csv\"))\n",
    "    os.chdir(geojson_dir)\n",
    "    geojsons = glob.glob(\"*.geojson\")\n",
    "    for geojson in tqdm(geojsons):\n",
    "        gdf = gpd.read_file(geojson)\n",
    "        gdf = pd.merge(gdf, lookup_gdf, on=category_attributes, how='left')\n",
    "        gdf.to_file(os.path.join(output_path, geojson), driver=\"GeoJSON\", encoding='utf-8')"
   ]
  },
  {
   "cell_type": "code",
   "execution_count": 13,
   "metadata": {},
   "outputs": [
    {
     "name": "stderr",
     "output_type": "stream",
     "text": [
      "100%|██████████| 2710/2710 [01:09<00:00, 39.16it/s]\n",
      "100%|██████████| 2710/2710 [01:06<00:00, 40.91it/s]\n",
      "100%|██████████| 2710/2710 [01:11<00:00, 38.02it/s]\n",
      "100%|██████████| 2710/2710 [01:08<00:00, 39.42it/s]\n",
      "100%|██████████| 2710/2710 [01:02<00:00, 43.03it/s]\n"
     ]
    }
   ],
   "source": [
    "all_annotations_geojson = '/local_data/cosmiq/wdata/achadda/rareplanes-public/RarePlanes_Public_All_Annotations.geojson'\n",
    "#geojson_dir_train = '/local_data/cosmiq/wdata/achadda/rareplanes-public/trainOriginal/geojson_aircraft_tiled'\n",
    "geojson_dir_test = '/local_data/cosmiq/wdata/achadda/rareplanes-public/testOriginal/geojson_aircraft_bbox'\n",
    "\n",
    "output_path_test_one = '/local_data/cosmiq/wdata/achadda/rareplanes-public/testOriginal/yolo_class_one_bbox'\n",
    "output_path_test_two = '/local_data/cosmiq/wdata/achadda/rareplanes-public/testOriginal/yolo_class_two_bbox'\n",
    "output_path_test_three = '/local_data/cosmiq/wdata/achadda/rareplanes-public/testOriginal/yolo_class_three_bbox'\n",
    "output_path_test_four = '/local_data/cosmiq/wdata/achadda/rareplanes-public/testOriginal/yolo_class_four_bbox'\n",
    "output_path_test_five = '/local_data/cosmiq/wdata/achadda/rareplanes-public/testOriginal/yolo_class_five_bbox'\n",
    "\n",
    "class_one = ['num_engines', 'propulsion']\n",
    "class_two = ['role']\n",
    "class_three = ['num_tail_fins','wing_position', 'wing_type']\n",
    "class_four = ['role','num_engines', 'propulsion', 'canards', 'num_tail_fins','wing_position', 'wing_type', 'faa_wingspan_class']\n",
    "class_five = ['num_engines']\n",
    "\n",
    "create_custom_classes(all_annotations_geojson, geojson_dir_test, output_path_test_one, class_one)\n",
    "create_custom_classes(all_annotations_geojson, geojson_dir_test, output_path_test_two, class_two)\n",
    "create_custom_classes(all_annotations_geojson, geojson_dir_test, output_path_test_three, class_three)\n",
    "create_custom_classes(all_annotations_geojson, geojson_dir_test, output_path_test_four, class_four)\n",
    "create_custom_classes(all_annotations_geojson, geojson_dir_test, output_path_test_five, class_five)"
   ]
  }
 ],
 "metadata": {
  "kernelspec": {
   "display_name": "solaris",
   "language": "python",
   "name": "solaris"
  },
  "language_info": {
   "codemirror_mode": {
    "name": "ipython",
    "version": 3
   },
   "file_extension": ".py",
   "mimetype": "text/x-python",
   "name": "python",
   "nbconvert_exporter": "python",
   "pygments_lexer": "ipython3",
   "version": "3.6.7"
  }
 },
 "nbformat": 4,
 "nbformat_minor": 2
}
